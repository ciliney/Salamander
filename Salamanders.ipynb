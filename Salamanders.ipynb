{
 "cells": [
  {
   "cell_type": "code",
   "execution_count": 1,
   "metadata": {
    "collapsed": false
   },
   "outputs": [
   ],
   "source": [
    "import random"
   ]
  },
  {
   "cell_type": "code",
   "execution_count": 21,
   "metadata": {
    "collapsed": false
   },
   "outputs": [
   ],
   "source": [
    "DEBUG = False\n",
    "\n",
    "def log(my_printout):\n",
    "    if DEBUG:\n",
    "        print (my_printout)\n",
    "\n",
    "#How many simulations will we run?\n",
    "NUM_SIMS = 25\n",
    "\n",
    "#How many iterations will we run each simulation for?\n",
    "NUM_ITER = 1000000\n",
    "\n",
    "#How many of each type of salamander will there be?\n",
    "num_reds = 15\n",
    "num_greens = 7\n",
    "num_blues = 8\n",
    "\n",
    "#Create appropriate number of salamanders\n",
    "red_salamanders = [\"Red\"]*num_reds\n",
    "green_salamanders = [\"Green\"]*num_greens\n",
    "blue_salamanders = [\"Blue\"]*num_blues\n",
    "\n",
    "#Put all the salamanders together and shuffle them up\n",
    "salamanders = red_salamanders + green_salamanders + blue_salamanders\n",
    "random.shuffle(salamanders)\n",
    "\n",
    "#Unique colours\n",
    "unique_colours = set(salamanders)"
   ]
  },
  {
   "cell_type": "code",
   "execution_count": 22,
   "metadata": {
    "collapsed": false
   },
   "outputs": [
    {
     "name": "stdout",
     "output_type": "stream",
     "text": [
      "Executing 10.0% complete.\n"
     ]
    },
    {
     "name": "stdout",
     "output_type": "stream",
     "text": [
      "Executing 20.0% complete.\n"
     ]
    },
    {
     "name": "stdout",
     "output_type": "stream",
     "text": [
      "Executing 30.0% complete.\n"
     ]
    },
    {
     "name": "stdout",
     "output_type": "stream",
     "text": [
      "Executing 40.0% complete.\n"
     ]
    },
    {
     "name": "stdout",
     "output_type": "stream",
     "text": [
      "Executing 50.0% complete.\n"
     ]
    },
    {
     "name": "stdout",
     "output_type": "stream",
     "text": [
      "Executing 60.0% complete.\n"
     ]
    },
    {
     "name": "stdout",
     "output_type": "stream",
     "text": [
      "Executing 70.0% complete.\n"
     ]
    },
    {
     "name": "stdout",
     "output_type": "stream",
     "text": [
      "Executing 80.0% complete.\n"
     ]
    },
    {
     "name": "stdout",
     "output_type": "stream",
     "text": [
      "Executing 90.0% complete.\n"
     ]
    },
    {
     "name": "stdout",
     "output_type": "stream",
     "text": [
      "Executing 100.0% complete.\n",
      "\n",
      "SUMMARY of simulation 1\n",
      "At the end of 1000000 trials, there were 1 trials with 24 RED salamaders.\n",
      "In one of those trials, there were 24 RED, 4 GREEN, and 2 BLUE salamanders.\n",
      "\n",
      "----------------------------------------\n",
      "\n"
     ]
    },
    {
     "name": "stdout",
     "output_type": "stream",
     "text": [
      "Executing 10.0% complete.\n"
     ]
    },
    {
     "name": "stdout",
     "output_type": "stream",
     "text": [
      "Executing 20.0% complete.\n"
     ]
    },
    {
     "name": "stdout",
     "output_type": "stream",
     "text": [
      "Executing 30.0% complete.\n"
     ]
    },
    {
     "name": "stdout",
     "output_type": "stream",
     "text": [
      "Executing 40.0% complete.\n"
     ]
    },
    {
     "name": "stdout",
     "output_type": "stream",
     "text": [
      "Executing 50.0% complete.\n"
     ]
    },
    {
     "name": "stdout",
     "output_type": "stream",
     "text": [
      "Executing 60.0% complete.\n"
     ]
    },
    {
     "name": "stdout",
     "output_type": "stream",
     "text": [
      "Executing 70.0% complete.\n"
     ]
    },
    {
     "name": "stdout",
     "output_type": "stream",
     "text": [
      "Executing 80.0% complete.\n"
     ]
    },
    {
     "name": "stdout",
     "output_type": "stream",
     "text": [
      "Executing 90.0% complete.\n"
     ]
    },
    {
     "name": "stdout",
     "output_type": "stream",
     "text": [
      "Executing 100.0% complete.\n",
      "\n",
      "SUMMARY of simulation 2\n",
      "At the end of 1000000 trials, there were 2 trials with 23 RED salamaders.\n",
      "In one of those trials, there were 23 RED, 6 GREEN, and 1 BLUE salamanders.\n",
      "\n",
      "----------------------------------------\n",
      "\n"
     ]
    },
    {
     "name": "stdout",
     "output_type": "stream",
     "text": [
      "Executing 10.0% complete.\n"
     ]
    },
    {
     "name": "stdout",
     "output_type": "stream",
     "text": [
      "Executing 20.0% complete.\n"
     ]
    },
    {
     "name": "stdout",
     "output_type": "stream",
     "text": [
      "Executing 30.0% complete.\n"
     ]
    },
    {
     "name": "stdout",
     "output_type": "stream",
     "text": [
      "Executing 40.0% complete.\n"
     ]
    },
    {
     "name": "stdout",
     "output_type": "stream",
     "text": [
      "Executing 50.0% complete.\n"
     ]
    },
    {
     "name": "stdout",
     "output_type": "stream",
     "text": [
      "Executing 60.0% complete.\n"
     ]
    },
    {
     "name": "stdout",
     "output_type": "stream",
     "text": [
      "Executing 70.0% complete.\n"
     ]
    },
    {
     "name": "stdout",
     "output_type": "stream",
     "text": [
      "Executing 80.0% complete.\n"
     ]
    },
    {
     "name": "stdout",
     "output_type": "stream",
     "text": [
      "Executing 90.0% complete.\n"
     ]
    }
   ],
   "source": [
    "max_reds = []\n",
    "simulation_count = 0\n",
    "while simulation_count < NUM_SIMS:\n",
    "\n",
    "    #Initialise lists that will store the count of each type of salamander at every iteration\n",
    "    red = []\n",
    "    green = []\n",
    "    blue = []\n",
    "\n",
    "\n",
    "    counter = 0\n",
    "    while counter <= NUM_ITER:\n",
    "\n",
    "        #This section, we will choose 2 salamanders at random to rendezvous\n",
    "\n",
    "        #Use this to check if a salamander has already been chosen to rendezvous. Initially, all salamaders are available\n",
    "        salamander_available = [True] * len(salamanders)\n",
    "        rendezvous = []\n",
    "\n",
    "        #Select two salamanders and add them to the rendezvous list\n",
    "        for _ in range(2):\n",
    "            while True:\n",
    "                s = random.randint(0, len(salamanders)-1)\n",
    "                if salamander_available[s]:\n",
    "                    salamander_available[s] = False\n",
    "                    break\n",
    "            rendezvous.append(s)\n",
    "\n",
    "            output = \"You selected a \" + str(salamanders[s]) + \" salamander in position \"+ str(s)\n",
    "            log(output)\n",
    "\n",
    "        log(salamander_available)\n",
    "        log(rendezvous)\n",
    "\n",
    "\n",
    "        #Check if both salamanders are the same colour or not\n",
    "        if salamanders[rendezvous[0]] == salamanders[rendezvous[1]]:\n",
    "            log(\"both salamanders are the same colour  - \" + salamanders[rendezvous[0]])\n",
    "\n",
    "            #Find the other two colours that are not the salamanders'\n",
    "            other_colours = list(unique_colours.difference(set([salamanders[rendezvous[0]], salamanders[rendezvous[1]]])))\n",
    "            log(\"The other colours are \"+ str(other_colours))\n",
    "\n",
    "            #Now change their colour to the other two colours\n",
    "            salamanders[rendezvous[0]] = other_colours[0]\n",
    "            salamanders[rendezvous[1]] = other_colours[1]\n",
    "\n",
    "        else:\n",
    "            #Find the other colour that is not the salamanders'\n",
    "            other_colours = list(unique_colours.difference(set([salamanders[rendezvous[0]], salamanders[rendezvous[1]]])))\n",
    "            log(\"both salamanders are different colours  - \" + str(salamanders[rendezvous[0]]) + \" and \" + str(salamanders[rendezvous[1]]))\n",
    "            log(\"The other colour is \" + str(other_colours))\n",
    "\n",
    "            #Now change their colour to the other colour\n",
    "            salamanders[rendezvous[0]] = other_colours[0]\n",
    "            salamanders[rendezvous[1]] = other_colours[0]\n",
    "\n",
    "        log(\"The first salamander is now \" + salamanders[rendezvous[0]])\n",
    "        log(\"The second salamander is now \" + salamanders[rendezvous[1]])\n",
    "\n",
    "        #Take a count of how many of each salamanders there are and add them to their respective list\n",
    "        red.append(salamanders.count(\"Red\"))\n",
    "        blue.append(salamanders.count(\"Blue\"))\n",
    "        green.append(salamanders.count(\"Green\"))\n",
    "\n",
    "        counter += 1\n",
    "        if counter % (NUM_ITER/10) == 0:\n",
    "            print(\"Executing {}% complete.\".format((counter/NUM_ITER)*100))\n",
    "    print('\\n' + \"SUMMARY of simulation \" + str(simulation_count+1))\n",
    "\n",
    "\n",
    "    #When all iterations are complete, find out how many iterations had the highest observed number of RED salamanders\n",
    "    max_red_salamaders = max(red)\n",
    "    max_reds.append(max_red_salamaders)\n",
    "    num_iters_with_max_red = red.count(max_red_salamaders)\n",
    "    print(\"At the end of {} trials, there were {} trials with {} RED salamaders.\".format(NUM_ITER, num_iters_with_max_red, max_red_salamaders))\n",
    "\n",
    "    #Find the iteration(s) where the maximum salamanders occoured and find the corresponding number of each type of salamader\n",
    "    max_index = red.index(max_red_salamaders)\n",
    "    print(\"In one of those trials, there were {} RED, {} GREEN, and {} BLUE salamanders.\".format(max_red_salamaders, green[max_index], blue[max_index]))\n",
    "\n",
    "\n",
    "    simulation_count +=1\n",
    "    \"\"\"\n",
    "    #count how many types of salamader at the end of each simulation\n",
    "    frequency = {}\n",
    "    # iterating over the list\n",
    "    for item in salamanders:\n",
    "        if item in frequency:\n",
    "            frequency[item] += 1\n",
    "        else:\n",
    "            frequency[item] = 1\n",
    "\n",
    "    print(frequency)\n",
    "    \"\"\"\n",
    "\n",
    "    print('\\n' + '-'*40 + '\\n')\n",
    "\n",
    "print(\"Below is a list of the maximum RED salamaders observed in each of the {} simulations.\".format(NUM_SIMS) + '\\n')\n",
    "print(max_reds)"
   ]
  },
  {
   "cell_type": "code",
   "execution_count": 10,
   "metadata": {
    "collapsed": false
   },
   "outputs": [
    {
     "data": {
      "text/plain": [
       "2"
      ]
     },
     "execution_count": 10,
     "metadata": {
     },
     "output_type": "execute_result"
    }
   ],
   "source": [
   ]
  },
  {
   "cell_type": "code",
   "execution_count": 0,
   "metadata": {
    "collapsed": false
   },
   "outputs": [
   ],
   "source": [
   ]
  },
  {
   "cell_type": "code",
   "execution_count": 11,
   "metadata": {
    "collapsed": false
   },
   "outputs": [
    {
     "data": {
      "text/plain": [
       "282586"
      ]
     },
     "execution_count": 11,
     "metadata": {
     },
     "output_type": "execute_result"
    }
   ],
   "source": [
   ]
  },
  {
   "cell_type": "code",
   "execution_count": 0,
   "metadata": {
    "collapsed": false
   },
   "outputs": [
   ],
   "source": [
   ]
  },
  {
   "cell_type": "code",
   "execution_count": 0,
   "metadata": {
    "collapsed": false
   },
   "outputs": [
   ],
   "source": [
   ]
  },
  {
   "cell_type": "code",
   "execution_count": 0,
   "metadata": {
    "collapsed": false
   },
   "outputs": [
   ],
   "source": [
   ]
  },
  {
   "cell_type": "code",
   "execution_count": 0,
   "metadata": {
    "collapsed": false
   },
   "outputs": [
   ],
   "source": [
    "\n",
    "\n",
    "\n",
    "\n",
    "\n",
    "\n",
    "\n",
    "\n",
    "\n",
    "\n",
    "\n",
    "\n",
    "\n",
    "\n",
    "\n",
    "\n",
    "\n",
    "\n",
    "\n",
    "\n",
    "\n"
   ]
  },
  {
   "cell_type": "code",
   "execution_count": 0,
   "metadata": {
    "collapsed": false
   },
   "outputs": [
   ],
   "source": [
   ]
  }
 ],
 "metadata": {
  "kernelspec": {
   "display_name": "Python 3 (system-wide)",
   "language": "python",
   "metadata": {
    "cocalc": {
     "description": "Python 3 programming language",
     "priority": 100,
     "url": "https://www.python.org/"
    }
   },
   "name": "python3",
   "resource_dir": "/ext/jupyter/kernels/python3"
  },
  "language_info": {
   "codemirror_mode": {
    "name": "ipython",
    "version": 3
   },
   "file_extension": ".py",
   "mimetype": "text/x-python",
   "name": "python",
   "nbconvert_exporter": "python",
   "pygments_lexer": "ipython3",
   "version": "3.8.10"
  }
 },
 "nbformat": 4,
 "nbformat_minor": 4
}